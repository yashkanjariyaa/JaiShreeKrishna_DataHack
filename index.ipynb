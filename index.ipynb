{
 "cells": [
  {
   "cell_type": "code",
   "execution_count": 1,
   "metadata": {},
   "outputs": [
    {
     "name": "stderr",
     "output_type": "stream",
     "text": [
      "C:\\Users\\Yash kanjariya\\AppData\\Local\\Temp\\ipykernel_19816\\1312910560.py:4: DtypeWarning: Columns (2,23,34,35,38,41,42,44,45,46,58,63,66,67,68,69,70,71,72,73,74,75,78,81,82,84,85,86,98,103,106,107,108,109,110,111,112,113,137,138,139,141,142,143,145,146,147,148,149,156,157,158,159,161) have mixed types. Specify dtype option on import or set low_memory=False.\n",
      "  csv1 = pd.read_csv('./Prepared from Raw/SALES_MASTERDATA_AUDIT.csv')\n",
      "C:\\Users\\Yash kanjariya\\AppData\\Local\\Temp\\ipykernel_19816\\1312910560.py:5: DtypeWarning: Columns (2,14,23,24,34,35,38,41,42,44,45,46,58,63,66,67,68,69,70,71,72,73,74,75,78,81,82,84,85,86,98,103,106,107,108,109,110,111,112,113) have mixed types. Specify dtype option on import or set low_memory=False.\n",
      "  csv2 = pd.read_csv('./Prepared from Raw/SALES_MASTERDATA.csv')\n",
      "C:\\Users\\Yash kanjariya\\AppData\\Local\\Temp\\ipykernel_19816\\1312910560.py:6: DtypeWarning: Columns (17) have mixed types. Specify dtype option on import or set low_memory=False.\n",
      "  csv3 = pd.read_csv('./Raw/sales_dump.csv')\n"
     ]
    },
    {
     "name": "stdout",
     "output_type": "stream",
     "text": [
      "Similar columns between the three CSV files:\n",
      "['Date', 'Assign_To', 'Category', 'Sub_Total', 'Server_Name', 'Variation', 'Order_Type', 'SGST_Rate', 'Service_Charge_Rate', 'Service_Charge_Amount', 'Tax', 'Non_Taxable', 'CGST_Rate', 'Phone', 'Status', 'Discount', 'Invoice_No_', 'CGST_Amount', 'Area', 'SGST_Amount', 'Timestamp', 'Price', 'Final_Total', 'Address', 'Name', 'GST', 'Payment_Type', 'Covers', 'Item_Name', 'Qty_', 'HSN', 'VAT_Rate', 'VAT_Amount', 'Table_No_']\n"
     ]
    }
   ],
   "source": [
    "import pandas as pd\n",
    "\n",
    "# Load the CSV files\n",
    "csv1 = pd.read_csv('./Prepared from Raw/SALES_MASTERDATA_AUDIT.csv')\n",
    "csv2 = pd.read_csv('./Prepared from Raw/SALES_MASTERDATA.csv')\n",
    "csv3 = pd.read_csv('./Raw/sales_dump.csv')\n",
    "\n",
    "# Get the columns from each DataFrame\n",
    "cols1 = set(csv1.columns)\n",
    "cols2 = set(csv2.columns)\n",
    "cols3 = set(csv3.columns)\n",
    "\n",
    "# Find similar columns\n",
    "similar_cols = cols1.intersection(cols2).intersection(cols3)\n",
    "\n",
    "# Convert the result to a list\n",
    "similar_cols_list = list(similar_cols)\n",
    "\n",
    "# Display the similar columns\n",
    "print(\"Similar columns between the three CSV files:\")\n",
    "print(similar_cols_list)\n"
   ]
  },
  {
   "cell_type": "code",
   "execution_count": 9,
   "metadata": {},
   "outputs": [
    {
     "name": "stdout",
     "output_type": "stream",
     "text": [
      "         Date                  Timestamp Invoice_No_ Payment_Type Order_Type  \\\n",
      "0  2024-01-13  2024-01-13 20:45:54+00:00       13180         CARD    Dine In   \n",
      "1  2023-10-12  2023-10-12 22:20:37+00:00        7131         Cash    Dine In   \n",
      "2  2023-12-17  2023-12-17 15:01:02+00:00       11414         CARD    Dine In   \n",
      "3  2023-10-22  2023-10-22 22:19:18+00:00        7756         Cash    Dine In   \n",
      "4  2023-12-27  2023-12-27 15:17:28+00:00       12030         Cash    Dine In   \n",
      "\n",
      "           Area      Item_Name  Price  Qty_  Sub_Total  ...  \\\n",
      "0       Dine in  Bottled Water    0.0   1.0        0.0  ...   \n",
      "1       Dine in  Bottled Water    0.0   1.0        0.0  ...   \n",
      "2  Garden Table  Bottled Water    0.0   3.0        0.0  ...   \n",
      "3  Garden Table  Bottled Water    0.0   3.0        0.0  ...   \n",
      "4       Dine in  Bottled Water    0.0   1.0        0.0  ...   \n",
      "\n",
      "   Zomato_Delivery_Time  Swiggy_Delivery_Time  amount_from amount_to  \\\n",
      "0                   NaN                   NaN          NaN       NaN   \n",
      "1                   NaN                   NaN          NaN       NaN   \n",
      "2                   NaN                   NaN          NaN       NaN   \n",
      "3                   NaN                   NaN          NaN       NaN   \n",
      "4                   NaN                   NaN          NaN       NaN   \n",
      "\n",
      "  modified_by modify_comment  electron_pos bill_no invoice_no  date_orap  \n",
      "0         NaN            NaN           NaN     NaN        NaN        NaN  \n",
      "1         NaN            NaN           NaN     NaN        NaN        NaN  \n",
      "2         NaN            NaN           NaN     NaN        NaN        NaN  \n",
      "3         NaN            NaN           NaN     NaN        NaN        NaN  \n",
      "4         NaN            NaN           NaN     NaN        NaN        NaN  \n",
      "\n",
      "[5 rows x 162 columns]\n",
      "         Date                  Timestamp Invoice_No_ Payment_Type Order_Type  \\\n",
      "0  2023-07-15  2023-07-16 01:03:33+00:00        C245         Cash    Dine In   \n",
      "1  2023-07-14  2023-07-14 21:06:03+00:00        C230         Cash    Dine In   \n",
      "2  2023-07-10  2023-07-10 15:35:08+00:00        C181         Cash    Dine In   \n",
      "3  2023-07-10  2023-07-10 23:18:48+00:00        C186         Cash    Dine In   \n",
      "4  2023-07-04  2023-07-04 23:23:41+00:00        C122         Cash    Dine In   \n",
      "\n",
      "  Area      Item_Name  Price  Qty_  Sub_Total  ...  Invoice_Id_sf  \\\n",
      "0  NaN  Bottled Water    0.0   1.0        0.0  ...            NaN   \n",
      "1  NaN  Bottled Water    0.0   3.0        0.0  ...            NaN   \n",
      "2  NaN  Bottled Water    0.0   2.0        0.0  ...            NaN   \n",
      "3  NaN  Bottled Water    0.0   1.0        0.0  ...            NaN   \n",
      "4  NaN  Bottled Water    0.0   2.0        0.0  ...            NaN   \n",
      "\n",
      "   Table_No_sf  Order_Type_sf Answer_sf Created_sf  PAX  \\\n",
      "0          NaN            NaN       NaN        NaN  NaN   \n",
      "1          NaN            NaN       NaN        NaN  1.0   \n",
      "2          NaN            NaN       NaN        NaN  NaN   \n",
      "3          NaN            NaN       NaN        NaN  NaN   \n",
      "4          NaN            NaN       NaN        NaN  0.0   \n",
      "\n",
      "   Food_Preparation_Time_Z Food_Preparation_Time_S Zomato_Delivery_Time  \\\n",
      "0                      NaN                     NaN                  NaN   \n",
      "1                      NaN                     NaN                  NaN   \n",
      "2                      NaN                     NaN                  NaN   \n",
      "3                      NaN                     NaN                  NaN   \n",
      "4                      NaN                     NaN                  NaN   \n",
      "\n",
      "   Swiggy_Delivery_Time  \n",
      "0                   NaN  \n",
      "1                   NaN  \n",
      "2                   NaN  \n",
      "3                   NaN  \n",
      "4                   NaN  \n",
      "\n",
      "[5 rows x 141 columns]\n",
      "         Date                  Timestamp Invoice_No_ Payment_Type Order_Type  \\\n",
      "0  2023-09-25  2023-09-25 21:17:18+00:00        1651         CARD    Dine In   \n",
      "1  2023-07-22  2023-07-22 21:58:41+00:00         585         Cash    Dine In   \n",
      "2  2023-08-03  2023-08-03 22:27:48+00:00         771  Other [UPI]    Dine In   \n",
      "3  2023-08-30  2023-08-30 23:54:01+00:00        1253         CARD    Dine In   \n",
      "4  2023-07-12  2023-07-12 15:32:09+00:00         408         CARD    Dine In   \n",
      "\n",
      "           Area        Item_Name  Price  Qty_  Sub_Total  ...  Assign_To  \\\n",
      "0       Dine in  OLD MONK (DARK)  275.0   2.0      550.0  ...         SM   \n",
      "1  Garden Table  OLD MONK (DARK)  275.0   2.0      550.0  ...        NaN   \n",
      "2       Dine in    BACARDI WHITE  275.0   2.0      550.0  ...         TD   \n",
      "3       Dine in    BACARDI LEMON  275.0   2.0      550.0  ...         SK   \n",
      "4       Dine in  OLD MONK (DARK)  275.0   2.0      550.0  ...         SK   \n",
      "\n",
      "   Non_Taxable  CGST_Rate CGST_Amount SGST_Rate SGST_Amount  VAT_Rate  \\\n",
      "0          0.0        2.5         0.0       2.5         0.0      10.0   \n",
      "1          0.0        2.5         0.0       2.5         0.0      10.0   \n",
      "2          0.0        2.5         0.0       2.5         0.0      10.0   \n",
      "3          0.0        2.5         0.0       2.5         0.0      10.0   \n",
      "4          0.0        2.5         0.0       2.5         0.0      10.0   \n",
      "\n",
      "  VAT_Amount Service_Charge_Rate  Service_Charge_Amount  \n",
      "0       27.5                 5.0                    0.0  \n",
      "1       27.5                 5.0                    0.0  \n",
      "2       27.5                 5.0                    0.0  \n",
      "3       27.5                 5.0                    0.0  \n",
      "4       27.5                 5.0                    0.0  \n",
      "\n",
      "[5 rows x 34 columns]\n"
     ]
    }
   ],
   "source": [
    "print(csv1.head())"
   ]
  },
  {
   "cell_type": "code",
   "execution_count": 10,
   "metadata": {},
   "outputs": [
    {
     "name": "stdout",
     "output_type": "stream",
     "text": [
      "         Date                  Timestamp Invoice_No_ Payment_Type Order_Type  \\\n",
      "0  2023-07-15  2023-07-16 01:03:33+00:00        C245         Cash    Dine In   \n",
      "1  2023-07-14  2023-07-14 21:06:03+00:00        C230         Cash    Dine In   \n",
      "2  2023-07-10  2023-07-10 15:35:08+00:00        C181         Cash    Dine In   \n",
      "3  2023-07-10  2023-07-10 23:18:48+00:00        C186         Cash    Dine In   \n",
      "4  2023-07-04  2023-07-04 23:23:41+00:00        C122         Cash    Dine In   \n",
      "\n",
      "  Area      Item_Name  Price  Qty_  Sub_Total  ...  Invoice_Id_sf  \\\n",
      "0  NaN  Bottled Water    0.0   1.0        0.0  ...            NaN   \n",
      "1  NaN  Bottled Water    0.0   3.0        0.0  ...            NaN   \n",
      "2  NaN  Bottled Water    0.0   2.0        0.0  ...            NaN   \n",
      "3  NaN  Bottled Water    0.0   1.0        0.0  ...            NaN   \n",
      "4  NaN  Bottled Water    0.0   2.0        0.0  ...            NaN   \n",
      "\n",
      "   Table_No_sf  Order_Type_sf Answer_sf Created_sf  PAX  \\\n",
      "0          NaN            NaN       NaN        NaN  NaN   \n",
      "1          NaN            NaN       NaN        NaN  1.0   \n",
      "2          NaN            NaN       NaN        NaN  NaN   \n",
      "3          NaN            NaN       NaN        NaN  NaN   \n",
      "4          NaN            NaN       NaN        NaN  0.0   \n",
      "\n",
      "   Food_Preparation_Time_Z Food_Preparation_Time_S Zomato_Delivery_Time  \\\n",
      "0                      NaN                     NaN                  NaN   \n",
      "1                      NaN                     NaN                  NaN   \n",
      "2                      NaN                     NaN                  NaN   \n",
      "3                      NaN                     NaN                  NaN   \n",
      "4                      NaN                     NaN                  NaN   \n",
      "\n",
      "   Swiggy_Delivery_Time  \n",
      "0                   NaN  \n",
      "1                   NaN  \n",
      "2                   NaN  \n",
      "3                   NaN  \n",
      "4                   NaN  \n",
      "\n",
      "[5 rows x 141 columns]\n"
     ]
    }
   ],
   "source": [
    "print(csv2.head())"
   ]
  },
  {
   "cell_type": "code",
   "execution_count": 11,
   "metadata": {},
   "outputs": [
    {
     "name": "stdout",
     "output_type": "stream",
     "text": [
      "         Date                  Timestamp Invoice_No_ Payment_Type Order_Type  \\\n",
      "0  2023-09-25  2023-09-25 21:17:18+00:00        1651         CARD    Dine In   \n",
      "1  2023-07-22  2023-07-22 21:58:41+00:00         585         Cash    Dine In   \n",
      "2  2023-08-03  2023-08-03 22:27:48+00:00         771  Other [UPI]    Dine In   \n",
      "3  2023-08-30  2023-08-30 23:54:01+00:00        1253         CARD    Dine In   \n",
      "4  2023-07-12  2023-07-12 15:32:09+00:00         408         CARD    Dine In   \n",
      "\n",
      "           Area        Item_Name  Price  Qty_  Sub_Total  ...  Assign_To  \\\n",
      "0       Dine in  OLD MONK (DARK)  275.0   2.0      550.0  ...         SM   \n",
      "1  Garden Table  OLD MONK (DARK)  275.0   2.0      550.0  ...        NaN   \n",
      "2       Dine in    BACARDI WHITE  275.0   2.0      550.0  ...         TD   \n",
      "3       Dine in    BACARDI LEMON  275.0   2.0      550.0  ...         SK   \n",
      "4       Dine in  OLD MONK (DARK)  275.0   2.0      550.0  ...         SK   \n",
      "\n",
      "   Non_Taxable  CGST_Rate CGST_Amount SGST_Rate SGST_Amount  VAT_Rate  \\\n",
      "0          0.0        2.5         0.0       2.5         0.0      10.0   \n",
      "1          0.0        2.5         0.0       2.5         0.0      10.0   \n",
      "2          0.0        2.5         0.0       2.5         0.0      10.0   \n",
      "3          0.0        2.5         0.0       2.5         0.0      10.0   \n",
      "4          0.0        2.5         0.0       2.5         0.0      10.0   \n",
      "\n",
      "  VAT_Amount Service_Charge_Rate  Service_Charge_Amount  \n",
      "0       27.5                 5.0                    0.0  \n",
      "1       27.5                 5.0                    0.0  \n",
      "2       27.5                 5.0                    0.0  \n",
      "3       27.5                 5.0                    0.0  \n",
      "4       27.5                 5.0                    0.0  \n",
      "\n",
      "[5 rows x 34 columns]\n"
     ]
    }
   ],
   "source": [
    "\n",
    "print(csv3.head())"
   ]
  },
  {
   "cell_type": "code",
   "execution_count": 2,
   "metadata": {},
   "outputs": [
    {
     "name": "stdout",
     "output_type": "stream",
     "text": [
      "Merged DataFrame:\n",
      "         Date                  Timestamp Invoice_No_ Payment_Type Order_Type  \\\n",
      "0  2024-01-13  2024-01-13 20:45:54+00:00       13180         CARD    Dine In   \n",
      "1  2024-01-13  2024-01-13 20:45:54+00:00       13180         CARD    Dine In   \n",
      "2  2024-01-13  2024-01-13 20:45:54+00:00       13180         CARD    Dine In   \n",
      "3  2024-01-13  2024-01-13 20:45:54+00:00       13180         CARD    Dine In   \n",
      "4  2024-01-13  2024-01-13 20:45:54+00:00       13180         CARD    Dine In   \n",
      "\n",
      "      Area      Item_Name  Price  Qty_  Sub_Total  ...  Invoice_Id_sf_y  \\\n",
      "0  Dine in  Bottled Water    0.0   1.0        0.0  ...              NaN   \n",
      "1  Dine in  Bottled Water    0.0   1.0        0.0  ...              NaN   \n",
      "2  Dine in  Bottled Water    0.0   1.0        0.0  ...              NaN   \n",
      "3  Dine in  Bottled Water    0.0   1.0        0.0  ...              NaN   \n",
      "4  Dine in  Bottled Water    0.0   1.0        0.0  ...              NaN   \n",
      "\n",
      "   Table_No_sf_y  Order_Type_sf_y Answer_sf_y Created_sf_y PAX_y  \\\n",
      "0            NaN              NaN         NaN          NaN   NaN   \n",
      "1            NaN              NaN         NaN          NaN   NaN   \n",
      "2            NaN              NaN         NaN          NaN   NaN   \n",
      "3            NaN              NaN         NaN          NaN   NaN   \n",
      "4            NaN              NaN         NaN          NaN   NaN   \n",
      "\n",
      "   Food_Preparation_Time_Z_y Food_Preparation_Time_S_y Zomato_Delivery_Time_y  \\\n",
      "0                        NaN                       NaN                    NaN   \n",
      "1                        NaN                       NaN                    NaN   \n",
      "2                        NaN                       NaN                    NaN   \n",
      "3                        NaN                       NaN                    NaN   \n",
      "4                        NaN                       NaN                    NaN   \n",
      "\n",
      "   Swiggy_Delivery_Time_y  \n",
      "0                     NaN  \n",
      "1                     NaN  \n",
      "2                     NaN  \n",
      "3                     NaN  \n",
      "4                     NaN  \n",
      "\n",
      "[5 rows x 269 columns]\n"
     ]
    }
   ],
   "source": [
    "merged_df = csv1.merge(csv2, on=list(similar_cols), how='outer').merge(csv3, on=list(similar_cols), how='outer')\n",
    "\n",
    "# Save the merged DataFrame to a new CSV file\n",
    "merged_df.to_csv('merged_file.csv', index=False)\n",
    "\n",
    "# Display the first few rows of the merged DataFrame\n",
    "print(\"Merged DataFrame:\")\n",
    "print(merged_df.head())"
   ]
  },
  {
   "cell_type": "code",
   "execution_count": 6,
   "metadata": {},
   "outputs": [
    {
     "data": {
      "text/plain": [
       "(544307, 269)"
      ]
     },
     "execution_count": 6,
     "metadata": {},
     "output_type": "execute_result"
    }
   ],
   "source": [
    "merged_df.shape"
   ]
  },
  {
   "cell_type": "code",
   "execution_count": 7,
   "metadata": {},
   "outputs": [
    {
     "name": "stdout",
     "output_type": "stream",
     "text": [
      "NaN count for each column:\n",
      "Date                              0\n",
      "Timestamp                         0\n",
      "Invoice_No_                       0\n",
      "Payment_Type                      0\n",
      "Order_Type                        0\n",
      "                              ...  \n",
      "PAX_y                        515859\n",
      "Food_Preparation_Time_Z_y    540344\n",
      "Food_Preparation_Time_S_y    542148\n",
      "Zomato_Delivery_Time_y       540378\n",
      "Swiggy_Delivery_Time_y       542193\n",
      "Length: 269, dtype: int64\n",
      "Cleaned DataFrame:\n",
      "         Date                  Timestamp Invoice_No_ Payment_Type Order_Type  \\\n",
      "0  2024-01-13  2024-01-13 20:45:54+00:00       13180         CARD    Dine In   \n",
      "1  2024-01-13  2024-01-13 20:45:54+00:00       13180         CARD    Dine In   \n",
      "2  2024-01-13  2024-01-13 20:45:54+00:00       13180         CARD    Dine In   \n",
      "3  2024-01-13  2024-01-13 20:45:54+00:00       13180         CARD    Dine In   \n",
      "4  2024-01-13  2024-01-13 20:45:54+00:00       13180         CARD    Dine In   \n",
      "\n",
      "      Area      Item_Name  Price  Qty_  Sub_Total  ...  Assign_To  \\\n",
      "0  Dine in  Bottled Water    0.0   1.0        0.0  ...         MK   \n",
      "1  Dine in  Bottled Water    0.0   1.0        0.0  ...         MK   \n",
      "2  Dine in  Bottled Water    0.0   1.0        0.0  ...         MK   \n",
      "3  Dine in  Bottled Water    0.0   1.0        0.0  ...         MK   \n",
      "4  Dine in  Bottled Water    0.0   1.0        0.0  ...         MK   \n",
      "\n",
      "   Non_Taxable  CGST_Rate CGST_Amount SGST_Rate SGST_Amount  VAT_Rate  \\\n",
      "0          0.0        2.5         0.0       2.5         0.0      10.0   \n",
      "1          0.0        2.5         0.0       2.5         0.0      10.0   \n",
      "2          0.0        2.5         0.0       2.5         0.0      10.0   \n",
      "3          0.0        2.5         0.0       2.5         0.0      10.0   \n",
      "4          0.0        2.5         0.0       2.5         0.0      10.0   \n",
      "\n",
      "  VAT_Amount Service_Charge_Rate  Service_Charge_Amount  \n",
      "0        0.0                 5.0                    0.0  \n",
      "1        0.0                 5.0                    0.0  \n",
      "2        0.0                 5.0                    0.0  \n",
      "3        0.0                 5.0                    0.0  \n",
      "4        0.0                 5.0                    0.0  \n",
      "\n",
      "[5 rows x 28 columns]\n"
     ]
    }
   ],
   "source": [
    "nan_count = merged_df.isna().sum()\n",
    "print(\"NaN count for each column:\")\n",
    "print(nan_count)\n",
    "\n",
    "# Define a threshold for significant NaN removal\n",
    "# For example, remove columns with more than 30% NaN values\n",
    "threshold = 0.3 * len(merged_df)\n",
    "\n",
    "# Remove columns with NaN values above the threshold\n",
    "cleaned_df = merged_df.loc[:, merged_df.isna().sum() <= threshold]\n",
    "\n",
    "# Save the cleaned DataFrame to a new CSV file\n",
    "cleaned_df.to_csv('cleaned_file.csv', index=False)\n",
    "\n",
    "# Display the first few rows of the cleaned DataFrame\n",
    "print(\"Cleaned DataFrame:\")\n",
    "print(cleaned_df.head())"
   ]
  },
  {
   "cell_type": "code",
   "execution_count": 8,
   "metadata": {},
   "outputs": [
    {
     "data": {
      "text/plain": [
       "(544307, 28)"
      ]
     },
     "execution_count": 8,
     "metadata": {},
     "output_type": "execute_result"
    }
   ],
   "source": [
    "cleaned_df.shape"
   ]
  }
 ],
 "metadata": {
  "kernelspec": {
   "display_name": "Python 3",
   "language": "python",
   "name": "python3"
  },
  "language_info": {
   "codemirror_mode": {
    "name": "ipython",
    "version": 3
   },
   "file_extension": ".py",
   "mimetype": "text/x-python",
   "name": "python",
   "nbconvert_exporter": "python",
   "pygments_lexer": "ipython3",
   "version": "3.12.0"
  }
 },
 "nbformat": 4,
 "nbformat_minor": 2
}
